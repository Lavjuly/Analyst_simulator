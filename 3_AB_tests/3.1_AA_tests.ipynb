{
 "cells": [
  {
   "cell_type": "markdown",
   "id": "f25e7aab-d285-43a2-a75e-8a08f76ebf95",
   "metadata": {},
   "source": [
    "У нас есть данные АА-теста с '2023-06-23' по '2023-06-29'. Вам нужно сделать симуляцию, как будто мы провели 10000 АА-тестов. На каждой итерации вам нужно сформировать подвыборки без повторения в 500 юзеров из 2 и 3 экспериментальной группы. Провести сравнение этих подвыборок t-testом.\n",
    "\n",
    "1. Построить гистограмму распределения получившихся 10000 p-values.\n",
    "2. Посчитать, какой процент p values оказался меньше либо равен 0.05\n",
    "3. Написать вывод по проведенному АА-тесту, корректно ли работает наша система сплитования.у нас есть данные АА-теста с '2023-06-23' по '2023-06-29'."
   ]
  },
  {
   "cell_type": "code",
   "execution_count": 2,
   "id": "61d09456-46a7-4ed1-9f93-4ca09352d8d4",
   "metadata": {},
   "outputs": [],
   "source": [
    "# Импортируем необходимые библиотеки\n",
    "\n",
    "import pandas as pd\n",
    "import pandahouse as ph\n",
    "import numpy as np\n",
    "import matplotlib.pyplot as plt\n",
    "import seaborn as sns\n",
    "from scipy import stats\n",
    "%matplotlib inline"
   ]
  },
  {
   "cell_type": "code",
   "execution_count": 3,
   "id": "cd434a24-8454-4c10-b49b-5a6502969d82",
   "metadata": {},
   "outputs": [],
   "source": [
    "# Подключаемся к БД\n",
    "\n",
    "connection = {'host': 'https://clickhouse.lab.karpov.courses',\n",
    "                      'database':'simulator_20230720',\n",
    "                      'user':'student', \n",
    "                      'password':'dpo_python_2020'\n",
    "                     }"
   ]
  },
  {
   "cell_type": "code",
   "execution_count": 5,
   "id": "23c97d4e-aac9-4723-bfe1-ef72d994c8f2",
   "metadata": {},
   "outputs": [
    {
     "data": {
      "text/plain": [
       "exp_group\n",
       "2    8362\n",
       "3    8425\n",
       "Name: user_id, dtype: int64"
      ]
     },
     "execution_count": 5,
     "metadata": {},
     "output_type": "execute_result"
    }
   ],
   "source": [
    "# Делаем запрос необходимых данных для проведения АА-теста\n",
    "q = \"\"\"\n",
    "SELECT exp_group, \n",
    "    user_id,\n",
    "    sum(action = 'like') as likes,\n",
    "    sum(action = 'view') as views,\n",
    "    likes/views as ctr\n",
    "FROM {db}.feed_actions \n",
    "WHERE toDate(time) between '2023-06-23' and '2023-06-29'\n",
    "    and exp_group in (2,3)\n",
    "GROUP BY exp_group, user_id\n",
    "\"\"\"\n",
    "\n",
    "df = ph.read_clickhouse(q, connection=connection)\n",
    "\n",
    "# Сгруппируем данные, чтобы узнать количество пользователей в каждой группе \n",
    "df.groupby('exp_group').user_id.count()"
   ]
  },
  {
   "cell_type": "markdown",
   "id": "6e19643c-047d-4061-99f2-45845cbc351a",
   "metadata": {},
   "source": [
    "Видим, что количество пользователей примерно одинаковое"
   ]
  },
  {
   "cell_type": "code",
   "execution_count": 9,
   "id": "04b30cd5-d028-4661-bb64-3ba8653c9f29",
   "metadata": {},
   "outputs": [
    {
     "data": {
      "image/png": "[encoded data removed]",
      "text/plain": [
       "<Figure size 864x576 with 1 Axes>"
      ]
     },
     "metadata": {},
     "output_type": "display_data"
    }
   ],
   "source": [
    "# Строим график исходных данных\n",
    "sns.set(rc={'figure.figsize':(12, 8)})\n",
    "groups = sns.histplot(data = df,\n",
    "                      x='ctr',\n",
    "                      hue='exp_group',\n",
    "                      palette = ['r', 'b'],\n",
    "                      alpha=0.5,\n",
    "                      kde=False)"
   ]
  },
  {
   "cell_type": "markdown",
   "id": "121d0675-dc82-49e1-a9db-f6e31826fef3",
   "metadata": {},
   "source": [
    "Мы видим, что данные распределены примерно одинаково"
   ]
  },
  {
   "cell_type": "code",
   "execution_count": 11,
   "id": "ba6d51b1-eef0-49a2-a4da-23626bd1da40",
   "metadata": {},
   "outputs": [],
   "source": [
    "# Генерируем подвыборки без повторения в 500 юзеров из 2 и 3 экспериментальной группы и проводим t-тесты\n",
    "\n",
    "group2 = df[df.exp_group == 2]\n",
    "group3 = df[df.exp_group == 3]\n",
    "\n",
    "p_values = []\n",
    "for _ in range(10000):\n",
    "    gr_2 = group2.ctr.sample(500, replace = False)\n",
    "    gr_3 = group2.ctr.sample(500, replace = False)\n",
    "    p_value = stats.ttest_ind(gr_2, gr_3, equal_var=False)[1]\n",
    "    p_values.append(p_value)\n",
    "p_values = pd.Series(p_values)"
   ]
  },
  {
   "cell_type": "code",
   "execution_count": 15,
   "id": "6407b674-fe2d-4001-90ab-d18b9bb79e00",
   "metadata": {},
   "outputs": [
    {
     "data": {
      "text/plain": [
       "<AxesSubplot:ylabel='Count'>"
      ]
     },
     "execution_count": 15,
     "metadata": {},
     "output_type": "execute_result"
    },
    {
     "data": {
      "image/png": "[encoded data removed]",
      "text/plain": [
       "<Figure size 864x576 with 1 Axes>"
      ]
     },
     "metadata": {},
     "output_type": "display_data"
    }
   ],
   "source": [
    "# Построим гистограмму распределения получившихся 10000 p-values\n",
    "sns.histplot(p_values)"
   ]
  },
  {
   "cell_type": "markdown",
   "id": "935b8dd3-7e27-4f78-b105-eefcd0a8e375",
   "metadata": {},
   "source": [
    "p-values распределены примерно равномерно"
   ]
  },
  {
   "cell_type": "code",
   "execution_count": 20,
   "id": "adc92e11-b188-4a8f-bc28-bca8bffc3b60",
   "metadata": {},
   "outputs": [
    {
     "data": {
      "text/plain": [
       "4.45"
      ]
     },
     "execution_count": 20,
     "metadata": {},
     "output_type": "execute_result"
    }
   ],
   "source": [
    "# Найдем какой процент p-values оказался меньше либо равен 0.05\n",
    "count = 0\n",
    "for p_value in p_values:\n",
    "    if p_value <= 0.05:\n",
    "        count += 1\n",
    "percent = (count / len(p_values)) * 100\n",
    "percent"
   ]
  },
  {
   "cell_type": "markdown",
   "id": "17e614d3-1b39-41f9-bbf4-9aa66e31cdd2",
   "metadata": {},
   "source": [
    "Вывод: Распределение p-values равномерное. \n",
    "P-values оказалось менее, чем в 5% случаев меньше или равен 0.05. \n",
    "Это означает, что система сплитования работает корректно, и AA-тест проведен успешно."
   ]
  }
 ],
 "metadata": {
  "kernelspec": {
   "display_name": "Python 3 (ipykernel)",
   "language": "python",
   "name": "python3"
  },
  "language_info": {
   "codemirror_mode": {
    "name": "ipython",
    "version": 3
   },
   "file_extension": ".py",
   "mimetype": "text/x-python",
   "name": "python",
   "nbconvert_exporter": "python",
   "pygments_lexer": "ipython3",
   "version": "3.8.10"
  }
 },
 "nbformat": 4,
 "nbformat_minor": 5
}
