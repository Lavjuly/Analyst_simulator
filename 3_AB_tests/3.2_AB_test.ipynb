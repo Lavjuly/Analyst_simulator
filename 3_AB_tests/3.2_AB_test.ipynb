{
 "cells": [
  {
   "cell_type": "markdown",
   "id": "8309a7f7-db66-45c5-a61a-fb987c81463d",
   "metadata": {},
   "source": [
    "## Задание:\n",
    "Пришло время проанализировать результаты эксперимента, который мы провели вместе с командой дата сайентистов. Эксперимент проходил с 2023-06-30 по 2023-07-06 включительно. Для эксперимента были задействованы 2 и 1 группы. \n",
    "В группе 2 был использован один из новых алгоритмов рекомендации постов, группа 1 использовалась в качестве контроля. \n",
    "Основная гипотеза заключается в том, что новый алгоритм во 2-й группе приведет к увеличению CTR. \n",
    "\n",
    "Ваша задача — проанализировать данные АB-теста. \n",
    "1. Выбрать метод анализа и сравнить CTR в двух группах (мы разбирали t-тест, Пуассоновский бутстреп, тест Манна-Уитни, t-тест на сглаженном ctr (α=5) а также t-тест и тест Манна-Уитни поверх бакетного преобразования).\n",
    "2. Сравните данные этими тестами. А еще посмотрите на распределения глазами. Почему тесты сработали так как сработали? \n",
    "3. Опишите потенциальную ситуацию, когда такое изменение могло произойти. Тут нет идеального ответа, подумайте.\n",
    "4. Напишите рекомендацию, будем ли мы раскатывать новый алгоритм на всех новых пользователей или все-таки не стоит."
   ]
  },
  {
   "cell_type": "code",
   "execution_count": 5,
   "id": "f35bfb13-7cee-4ad7-b166-085fe5f82dc3",
   "metadata": {},
   "outputs": [],
   "source": [
    "# Импортируем необходимые библиотеки\n",
    "\n",
    "import pandas as pd\n",
    "import pandahouse as ph\n",
    "import numpy as np\n",
    "import matplotlib.pyplot as plt\n",
    "import seaborn as sns\n",
    "from scipy import stats\n",
    "%matplotlib inline"
   ]
  },
  {
   "cell_type": "code",
   "execution_count": 6,
   "id": "45fda67c-214a-4e86-9501-53f45e0c47aa",
   "metadata": {},
   "outputs": [],
   "source": [
    "# Подключаемся к БД\n",
    "\n",
    "connection = {'host': 'https://clickhouse.lab.karpov.courses',\n",
    "                      'database':'simulator_20230720',\n",
    "                      'user':'student', \n",
    "                      'password':'dpo_python_2020'\n",
    "                     }"
   ]
  },
  {
   "cell_type": "code",
   "execution_count": 7,
   "id": "6b1f0d2b-9660-47c0-85aa-994f825b2ce6",
   "metadata": {},
   "outputs": [],
   "source": [
    "# Делаем запрос необходимых данных \n",
    "q = \"\"\"\n",
    "SELECT exp_group, \n",
    "    user_id,\n",
    "    sum(action = 'like') as likes,\n",
    "    sum(action = 'view') as views,\n",
    "    likes/views as ctr\n",
    "FROM {db}.feed_actions \n",
    "WHERE toDate(time) between '2023-06-30' and '2023-07-06'\n",
    "    and exp_group in (1,2)\n",
    "GROUP BY exp_group, user_id\n",
    "\"\"\"\n",
    "\n",
    "df = ph.read_clickhouse(q, connection=connection)"
   ]
  },
  {
   "cell_type": "code",
   "execution_count": 8,
   "id": "67f3c3ed-e08c-4967-8946-412342b2b05f",
   "metadata": {},
   "outputs": [
    {
     "data": {
      "text/plain": [
       "exp_group\n",
       "1    10020\n",
       "2     9877\n",
       "Name: user_id, dtype: int64"
      ]
     },
     "execution_count": 8,
     "metadata": {},
     "output_type": "execute_result"
    }
   ],
   "source": [
    "# Проверим количество пользователей в каждой группе\n",
    "df.groupby('exp_group').user_id.count()"
   ]
  },
  {
   "cell_type": "markdown",
   "id": "9e7e70cc-3d40-4304-bdae-e90438189e44",
   "metadata": {},
   "source": [
    "Группы получились примерно одинаковые как и ожидалось"
   ]
  },
  {
   "cell_type": "code",
   "execution_count": 9,
   "id": "18406306-f852-46f2-902e-53db121f36a3",
   "metadata": {},
   "outputs": [
    {
     "data": {
      "image/png": "[encoded data removed]",
      "text/plain": [
       "<Figure size 864x576 with 1 Axes>"
      ]
     },
     "metadata": {},
     "output_type": "display_data"
    }
   ],
   "source": [
    "# Построим график, чтобы посмотреть на наши данные\n",
    "sns.set(rc={'figure.figsize':(12, 8)})\n",
    "groups = sns.histplot(data = df, \n",
    "              x='ctr', \n",
    "              hue='exp_group', \n",
    "              palette = ['r', 'b'],\n",
    "              alpha=0.5,\n",
    "              kde=False)"
   ]
  },
  {
   "cell_type": "markdown",
   "id": "8b583804-a3fc-4218-a26c-cff5a4826147",
   "metadata": {},
   "source": [
    "Распределение CTR в перовой группе похоже на нормальное, что нельзя сказать о распределении CTR во второй группе.\n",
    "Мы видим, что CTR в данных группах отличается."
   ]
  },
  {
   "cell_type": "markdown",
   "id": "1e8d111b-1738-4c27-bc62-c7f1623a1726",
   "metadata": {},
   "source": [
    "## Проводим t-тест"
   ]
  },
  {
   "cell_type": "code",
   "execution_count": 10,
   "id": "395d11fc-1af2-4280-86c4-c79ba51eda93",
   "metadata": {},
   "outputs": [
    {
     "data": {
      "text/plain": [
       "Ttest_indResult(statistic=0.4051491913112757, pvalue=0.685373331140751)"
      ]
     },
     "execution_count": 10,
     "metadata": {},
     "output_type": "execute_result"
    }
   ],
   "source": [
    "stats.ttest_ind(df[df.exp_group == 1].ctr,\n",
    "                df[df.exp_group == 2].ctr,\n",
    "                equal_var=False)"
   ]
  },
  {
   "cell_type": "markdown",
   "id": "2304bd4b-5053-4f05-b12f-395a695dbcd9",
   "metadata": {},
   "source": [
    "T-тест показал, что нет статистически значимых различий.\n",
    "Возможно это связано с тем, что распределение CTR во второй группе не является нормальным."
   ]
  },
  {
   "cell_type": "markdown",
   "id": "a68bb2d9-97dd-4e8e-a22d-3ff8189328f8",
   "metadata": {},
   "source": [
    "## Проводим тест Манна-Уитни"
   ]
  },
  {
   "cell_type": "code",
   "execution_count": 11,
   "id": "a60e1f7d-6471-4f8d-8ad5-b0331e0c4832",
   "metadata": {},
   "outputs": [
    {
     "data": {
      "text/plain": [
       "MannwhitneyuResult(statistic=55189913.0, pvalue=4.632205841806026e-45)"
      ]
     },
     "execution_count": 11,
     "metadata": {},
     "output_type": "execute_result"
    }
   ],
   "source": [
    "stats.mannwhitneyu(df[df.exp_group == 1].ctr, \n",
    "                   df[df.exp_group == 2].ctr,\n",
    "                   alternative = 'two-sided')"
   ]
  },
  {
   "cell_type": "code",
   "execution_count": 12,
   "id": "0490b343-96b3-47ab-a672-47b7b3193af7",
   "metadata": {},
   "outputs": [
    {
     "name": "stdout",
     "output_type": "stream",
     "text": [
      "В 55.98 % случаев A > B. Должно получиться около 50%\n"
     ]
    }
   ],
   "source": [
    "A_gt_B = 0\n",
    "for _ in range(10000):\n",
    "    A_gt_B+= df[df.exp_group == 1].ctr.sample().values[0] > df[df.exp_group == 2].ctr.sample().values[0]\n",
    "    \n",
    "print('В', A_gt_B/100, '% случаев A > B. Должно получиться около 50%')"
   ]
  },
  {
   "cell_type": "markdown",
   "id": "893fd296-3cc9-48be-9403-6509bac2f68c",
   "metadata": {},
   "source": [
    "Тест Манна-Уитни показал, что статистически значимые различия есть. \n",
    "При этом в первой группе (контроль) CTR больше, чем во второй."
   ]
  },
  {
   "cell_type": "markdown",
   "id": "7e1ec071-446e-4974-b52e-0446ad42603d",
   "metadata": {},
   "source": [
    "## Cглаженный CTR"
   ]
  },
  {
   "cell_type": "code",
   "execution_count": 13,
   "id": "890eaf64-e822-4c2d-8117-e5214d9f9932",
   "metadata": {},
   "outputs": [],
   "source": [
    "# Создаем функцию для расчета сглаженного CTR\n",
    "def get_smothed_ctr(user_likes, user_views, global_ctr, alpha):\n",
    "    smothed_ctr = (user_likes + alpha * global_ctr) / (user_views + alpha)\n",
    "    return smothed_ctr"
   ]
  },
  {
   "cell_type": "code",
   "execution_count": 14,
   "id": "7cad4591-d12e-485e-8336-f6b1a039d2c1",
   "metadata": {},
   "outputs": [],
   "source": [
    "# Считаем общегрупповой CTR для каждой группы\n",
    "global_ctr_1 = df[df.exp_group == 1].likes.sum()/df[df.exp_group == 1].views.sum()\n",
    "global_ctr_2 = df[df.exp_group == 2].likes.sum()/df[df.exp_group == 2].views.sum()"
   ]
  },
  {
   "cell_type": "code",
   "execution_count": 15,
   "id": "ba9bf999-1f5a-46cb-8fa7-e1ca51fd77d8",
   "metadata": {},
   "outputs": [],
   "source": [
    "# Считаем сглаженный CTR для первой группы\n",
    "group1 = df[df.exp_group == 1].copy()\n",
    "group1['smothed_ctr'] = df.apply(\n",
    "    lambda x: get_smothed_ctr(x['likes'], x['views'], global_ctr_1, 5), axis=1)"
   ]
  },
  {
   "cell_type": "code",
   "execution_count": 16,
   "id": "90bb35aa-e241-4b1f-917a-65a3461c04aa",
   "metadata": {},
   "outputs": [],
   "source": [
    "# Считаем сглаженный CTR для второй группы\n",
    "group2 = df[df.exp_group == 2].copy()\n",
    "group2['smothed_ctr'] = df.apply(\n",
    "    lambda x: get_smothed_ctr(x['likes'], x['views'], global_ctr_2, 5), axis=1)"
   ]
  },
  {
   "cell_type": "code",
   "execution_count": 18,
   "id": "755ebc7a-b4bd-42f3-95ec-18e0914da3d4",
   "metadata": {},
   "outputs": [
    {
     "data": {
      "text/plain": [
       "<AxesSubplot:xlabel='smothed_ctr'>"
      ]
     },
     "execution_count": 18,
     "metadata": {},
     "output_type": "execute_result"
    },
    {
     "data": {
      "image/png": "[encoded data removed]",
      "text/plain": [
       "<Figure size 864x576 with 1 Axes>"
      ]
     },
     "metadata": {},
     "output_type": "display_data"
    }
   ],
   "source": [
    "# Строим распределения сглаженного CTR для двух групп\n",
    "sns.distplot(group1.smothed_ctr, \n",
    "             kde = False)\n",
    "sns.distplot(group2.smothed_ctr, \n",
    "             kde = False)"
   ]
  },
  {
   "cell_type": "markdown",
   "id": "ffcb478c-73ef-446b-a976-e90cf2b45b33",
   "metadata": {},
   "source": [
    "График также показал, что распределение для первой группы похоже на нормальное, а для второй нет. \n",
    "А также, что имеется разница."
   ]
  },
  {
   "cell_type": "code",
   "execution_count": 19,
   "id": "bb250ca6-294a-4d5c-8733-47439c05f289",
   "metadata": {},
   "outputs": [
    {
     "data": {
      "text/plain": [
       "Ttest_indResult(statistic=1.9460491517027678, pvalue=0.05166679015318533)"
      ]
     },
     "execution_count": 19,
     "metadata": {},
     "output_type": "execute_result"
    }
   ],
   "source": [
    "# Проводим t-тест на сглаженных CTR \n",
    "stats.ttest_ind(group1.smothed_ctr,\n",
    "                group2.smothed_ctr,\n",
    "                equal_var=False)"
   ]
  },
  {
   "cell_type": "code",
   "execution_count": 20,
   "id": "1021a805-0476-402f-b7c1-8e0f424cbeb0",
   "metadata": {},
   "outputs": [
    {
     "data": {
      "text/plain": [
       "MannwhitneyuResult(statistic=55528353.0, pvalue=2.396534039374286e-50)"
      ]
     },
     "execution_count": 20,
     "metadata": {},
     "output_type": "execute_result"
    }
   ],
   "source": [
    "# Проводим тест Манна-Уитни на сглаженном CTR\n",
    "stats.mannwhitneyu(group1.smothed_ctr,\n",
    "                   group2.smothed_ctr,\n",
    "                   alternative = 'two-sided')"
   ]
  },
  {
   "cell_type": "code",
   "execution_count": 29,
   "id": "3e0c3614-9127-49d1-b7d4-3b7d1aeda817",
   "metadata": {},
   "outputs": [
    {
     "name": "stdout",
     "output_type": "stream",
     "text": [
      "В 55.47 % случаев A > B. Должно получиться около 50%\n"
     ]
    }
   ],
   "source": [
    "A_gt_B = 0\n",
    "for _ in range(10000):\n",
    "    A_gt_B+= group1.smothed_ctr.sample().values[0] > group2.smothed_ctr.sample().values[0]\n",
    "    \n",
    "print('В', A_gt_B/100, '% случаев A > B. Должно получиться около 50%')"
   ]
  },
  {
   "cell_type": "markdown",
   "id": "8526231b-e305-4895-a085-2b9c7de3d3d9",
   "metadata": {},
   "source": [
    "Значение p-value в t-тесте получилось значительно меньше (немного больше уровня значимости 0.05). \n",
    "Таким образом, можно сказать, что результ не является статистически значимыми и мы не можем отклонить нулевую гипотезу.\n",
    "Тест Манна-Уитни показал, что статистически значимые различия есть. При этом в первой группе (контроль) CTR больше, чем во второй.\n",
    "Однозначно сделать вывод на тестах сглаженного CTR не получается."
   ]
  },
  {
   "cell_type": "markdown",
   "id": "2894fa99-0f5d-405d-9d63-edb32e8fcaf2",
   "metadata": {},
   "source": [
    "## Пуассоновский бутстреп для подсчета разницы в CTR"
   ]
  },
  {
   "cell_type": "code",
   "execution_count": 21,
   "id": "e24f6ce6-a9a8-4092-afca-10d1950e4cf8",
   "metadata": {},
   "outputs": [],
   "source": [
    "def bootstrap(likes1, views1, likes2, views2, n_bootstrap=2000):\n",
    "\n",
    "    poisson_bootstraps1 = stats.poisson(1).rvs(\n",
    "        (2000, len(likes1))).astype(np.int64)\n",
    "\n",
    "    poisson_bootstraps2 = stats.poisson(1).rvs(\n",
    "            (2000, len(likes2))).astype(np.int64)\n",
    "    \n",
    "    globalCTR1 = (poisson_bootstraps1*likes1).sum(axis=1)/(poisson_bootstraps1*views1).sum(axis=1)\n",
    "    \n",
    "    globalCTR2 = (poisson_bootstraps2*likes2).sum(axis=1)/(poisson_bootstraps2*views2).sum(axis=1)\n",
    "\n",
    "    return globalCTR1, globalCTR2"
   ]
  },
  {
   "cell_type": "code",
   "execution_count": 22,
   "id": "ab579f5e-5d9f-467f-8260-4bf7117b6085",
   "metadata": {},
   "outputs": [],
   "source": [
    "likes1 = df[df.exp_group == 1].likes.to_numpy()\n",
    "views1 = df[df.exp_group == 1].views.to_numpy()\n",
    "likes2 = df[df.exp_group == 2].likes.to_numpy()\n",
    "views2 = df[df.exp_group == 2].views.to_numpy()"
   ]
  },
  {
   "cell_type": "code",
   "execution_count": 23,
   "id": "8749b423-7e36-4f43-ab07-6e2a8a42d13f",
   "metadata": {},
   "outputs": [],
   "source": [
    "ctr1, ctr2 = bootstrap(likes1, views1, likes2, views2)"
   ]
  },
  {
   "cell_type": "code",
   "execution_count": 25,
   "id": "5bfbe975-4dfa-431e-96a7-13f104e533a0",
   "metadata": {},
   "outputs": [
    {
     "data": {
      "text/plain": [
       "<AxesSubplot:ylabel='Count'>"
      ]
     },
     "execution_count": 25,
     "metadata": {},
     "output_type": "execute_result"
    },
    {
     "data": {
      "image/png": "[encoded data removed]",
      "text/plain": [
       "<Figure size 864x576 with 1 Axes>"
      ]
     },
     "metadata": {},
     "output_type": "display_data"
    }
   ],
   "source": [
    "sns.histplot(ctr1)\n",
    "sns.histplot(ctr2, color='green')"
   ]
  },
  {
   "cell_type": "code",
   "execution_count": 26,
   "id": "697598cb-4315-4616-aef4-8a75d5b9a571",
   "metadata": {},
   "outputs": [
    {
     "data": {
      "text/plain": [
       "<AxesSubplot:ylabel='Count'>"
      ]
     },
     "execution_count": 26,
     "metadata": {},
     "output_type": "execute_result"
    },
    {
     "data": {
      "image/png": "[encoded data removed]",
      "text/plain": [
       "<Figure size 864x576 with 1 Axes>"
      ]
     },
     "metadata": {},
     "output_type": "display_data"
    }
   ],
   "source": [
    "# Распределение разницы между \"глобальными CTR\"\n",
    "sns.histplot(ctr2 - ctr1)"
   ]
  },
  {
   "cell_type": "markdown",
   "id": "f3bba181-03ab-42dd-8b64-595ae48ee533",
   "metadata": {},
   "source": [
    "Разница между глобальными CTR в данных группах получилась отрицательной.\n",
    "Пуассоновский бутстреп показал разницу в групповых CTR. При этом во второй группе оказался CTR меньше, чем в первой.\n",
    "Распределения глобальных CTR получились схожими с нормальным, и видно на сколько сильно они отличаются (даже не пересекаются). \n",
    "В Пуасоновсом бутстрепе благодаря достаточному количеству пользователей удалось сгенерировать репрезентативные выборки."
   ]
  },
  {
   "cell_type": "markdown",
   "id": "f433e95c-533c-4807-86f6-b6992791bc05",
   "metadata": {},
   "source": [
    "## Бакетное преобразование"
   ]
  },
  {
   "cell_type": "code",
   "execution_count": 41,
   "id": "6c4b7c49-4c5f-40d2-b543-876b1f6fc794",
   "metadata": {},
   "outputs": [],
   "source": [
    "# Делаем запрос необходимых данных и генерируем бакеты\n",
    "q = \"\"\"\n",
    "\n",
    "SELECT exp_group, bucket,\n",
    "    sum(likes)/sum(views) as bucket_ctr\n",
    "FROM (SELECT exp_group, \n",
    "        xxHash64(user_id)%50 as bucket,\n",
    "        user_id,\n",
    "        sum(action = 'like') as likes,\n",
    "        sum(action = 'view') as views,\n",
    "        likes/views as ctr\n",
    "    FROM {db}.feed_actions \n",
    "    WHERE toDate(time) between '2023-06-30' and '2023-07-06'\n",
    "        and exp_group in (1,2)\n",
    "    GROUP BY exp_group, bucket, user_id)\n",
    "GROUP BY exp_group, bucket\n",
    "\"\"\"\n",
    "\n",
    "df_bucket = ph.read_clickhouse(q, connection=connection)"
   ]
  },
  {
   "cell_type": "code",
   "execution_count": 37,
   "id": "6eb75319-50a9-4cc3-8578-f5cbdba9bb62",
   "metadata": {},
   "outputs": [
    {
     "data": {
      "text/plain": [
       "<AxesSubplot:xlabel='bucket_ctr', ylabel='Count'>"
      ]
     },
     "execution_count": 37,
     "metadata": {},
     "output_type": "execute_result"
    },
    {
     "data": {
      "image/png": "[encoded data removed]",
      "text/plain": [
       "<Figure size 864x576 with 1 Axes>"
      ]
     },
     "metadata": {},
     "output_type": "display_data"
    }
   ],
   "source": [
    "sns.histplot(data = df_bucket, \n",
    "              x='bucket_ctr', \n",
    "              hue='exp_group', \n",
    "              palette = ['r', 'b'],\n",
    "              alpha=0.5,\n",
    "              kde=False)"
   ]
  },
  {
   "cell_type": "markdown",
   "id": "6265059d-4d94-45f0-9680-6cea96f3a598",
   "metadata": {},
   "source": [
    "Видим,что распределения чем-то похоже на нормальные."
   ]
  },
  {
   "cell_type": "code",
   "execution_count": 42,
   "id": "72ad3d8f-bf40-4e28-b558-7fddec9b6402",
   "metadata": {},
   "outputs": [
    {
     "data": {
      "text/plain": [
       "Ttest_indResult(statistic=5.614819358149381, pvalue=4.592644937473873e-07)"
      ]
     },
     "execution_count": 42,
     "metadata": {},
     "output_type": "execute_result"
    }
   ],
   "source": [
    "# Проведем t-тест поверх бакетного преобразования\n",
    "stats.ttest_ind(df_bucket[df_bucket.exp_group == 1].bucket_ctr, \n",
    "                   df_bucket[df_bucket.exp_group == 2].bucket_ctr, \n",
    "                   equal_var = False)"
   ]
  },
  {
   "cell_type": "markdown",
   "id": "991bd57e-1702-430a-903c-44b633d5f16d",
   "metadata": {},
   "source": [
    "Здесь t-тест показал,что есть статистически значимые различия"
   ]
  },
  {
   "cell_type": "code",
   "execution_count": 45,
   "id": "7df90a98-23a0-4425-a2ec-ad90442ba0c6",
   "metadata": {},
   "outputs": [
    {
     "data": {
      "text/plain": [
       "MannwhitneyuResult(statistic=1997.0, pvalue=2.6576427804010095e-07)"
      ]
     },
     "execution_count": 45,
     "metadata": {},
     "output_type": "execute_result"
    }
   ],
   "source": [
    "# Проведем тест Манна-Уитни поверх бакетного преобразования\n",
    "stats.mannwhitneyu(df_bucket[df_bucket.exp_group == 1].bucket_ctr, \n",
    "                   df_bucket[df_bucket.exp_group == 2].bucket_ctr, \n",
    "                   alternative = 'two-sided')"
   ]
  },
  {
   "cell_type": "code",
   "execution_count": 44,
   "id": "20d1c6d8-9522-4bd3-a9e0-b3ec77587679",
   "metadata": {},
   "outputs": [
    {
     "name": "stdout",
     "output_type": "stream",
     "text": [
      "В 80.41 % случаев A > B. Должно получиться около 50%\n"
     ]
    }
   ],
   "source": [
    "A_gt_B = 0\n",
    "for _ in range(10000):\n",
    "    A_gt_B+= df_bucket[df_bucket.exp_group == 1].bucket_ctr.sample().values[0] > df_bucket[df_bucket.exp_group == 2].bucket_ctr.sample().values[0]\n",
    "    \n",
    "print('В', A_gt_B/100, '% случаев A > B. Должно получиться около 50%')"
   ]
  },
  {
   "cell_type": "code",
   "execution_count": null,
   "id": "4ac04e8f-c701-49c2-9eb2-41da7495c3e5",
   "metadata": {},
   "outputs": [],
   "source": [
    "И тест Манна-Уитни тоже показал статистически значимые различия"
   ]
  },
  {
   "cell_type": "markdown",
   "id": "a2e0d38e-e033-4c45-9403-40e211ec165f",
   "metadata": {},
   "source": [
    "## Вывод: \n",
    "Анализ результатов A/B тестов данными методами показал различные результаты. \n",
    "T-тест практически во всех случаях отрицал различия, скорее это связано с тем, что распределение CTR во второй группе было совсем не похоже на нормальное.\n",
    "Тест Манна-Уитни напротив говорил, что статистически значимые различая есть, при этом CTR в первой (контрольной) группе был выше, чем во второй. \n",
    "В связи с этим эксперимент можно считать неудавшимся. Раскатывать новый алгоритм на всех новых пользователей не рекомендую."
   ]
  }
 ],
 "metadata": {
  "kernelspec": {
   "display_name": "Python 3 (ipykernel)",
   "language": "python",
   "name": "python3"
  },
  "language_info": {
   "codemirror_mode": {
    "name": "ipython",
    "version": 3
   },
   "file_extension": ".py",
   "mimetype": "text/x-python",
   "name": "python",
   "nbconvert_exporter": "python",
   "pygments_lexer": "ipython3",
   "version": "3.8.10"
  }
 },
 "nbformat": 4,
 "nbformat_minor": 5
}
